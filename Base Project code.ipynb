{
 "cells": [
  {
   "cell_type": "code",
   "execution_count": 1,
   "metadata": {},
   "outputs": [],
   "source": [
    "import os\n",
    "import pandas as pd\n",
    "import matplotlib .pyplot as plt\n",
    "import numpy as np\n"
   ]
  },
  {
   "cell_type": "code",
   "execution_count": 2,
   "metadata": {},
   "outputs": [],
   "source": [
    "#Import cvs files and change to panda dataframes\n",
    "filenames = os.listdir(\"Data/\")\n",
    "filenames = [\n",
    "    os.path.join( \"Data\", f)\n",
    "    for f in filenames\n",
    "]\n",
    "dfs = [\n",
    "    pd.read_csv(f)\n",
    "    for f in filenames\n",
    "]"
   ]
  },
  {
   "cell_type": "code",
   "execution_count": 3,
   "metadata": {},
   "outputs": [],
   "source": [
    "#get years for each dataset\n",
    "def get_year(filename):\n",
    "    year = filename.split(\"_\")[-1] # last element\n",
    "    year = year.split(\".\")[0] # removes .csv\n",
    "    year = \"20\"+year\n",
    "    return year\n",
    "year=[]\n",
    "for f in filenames:\n",
    "    year.append(get_year(f))"
   ]
  },
  {
   "cell_type": "code",
   "execution_count": 4,
   "metadata": {},
   "outputs": [],
   "source": [
    "# add year to collumn names\n",
    "cleandf=[]\n",
    "counter=0\n",
    "for df in dfs:\n",
    "    df=df.rename(columns={\n",
    "            \"CTE_STUDENTS\":f\"CTE_STUDENTS_{year[counter]}\",\n",
    "            \"CTE_HOURS\":f\"CTE_HOURS_{year[counter]}\",\n",
    "            \"CTE_AVG\":f\"CTE_AVG_{year[counter]}\",\n",
    "            \"ALL_STUDENTS\":f\"ALL_STUDENTS_{year[counter]}\",\n",
    "            \"ALL_HOURS\":f\"ALL_HOURS_{year[counter]}\",\n",
    "            \"ALL_AVG\": f\"ALL_AVG_{year[counter]}\",\n",
    "        })\n",
    "#remove unwanted columns and drop nan\n",
    "    del df['REPORT_DISTRICT']\n",
    "    del df['REPORT_DISTNAME']\n",
    "    del df['REPORT_CHARTER_STATUS']\n",
    "    del df['BLANK_COLUMN']\n",
    "    df = df.dropna(how = \"any\")\n",
    "    cleandf.append(df)\n",
    "    counter=counter+1\n",
    "dfs=cleandf"
   ]
  },
  {
   "cell_type": "code",
   "execution_count": 16,
   "metadata": {},
   "outputs": [
    {
     "data": {
      "text/plain": [
       "DISTRICT             19974\n",
       "SERVICE              19974\n",
       "SERVICEX             19974\n",
       "CTE_STUDENTS_2015     8542\n",
       "CTE_HOURS_2015        8542\n",
       "CTE_AVG_2015          8542\n",
       "ALL_STUDENTS_2015     8542\n",
       "ALL_HOURS_2015        8542\n",
       "ALL_AVG_2015          8542\n",
       "CTE_STUDENTS_2016     9680\n",
       "CTE_HOURS_2016        9680\n",
       "CTE_AVG_2016          9680\n",
       "ALL_STUDENTS_2016     9680\n",
       "ALL_HOURS_2016        9680\n",
       "ALL_AVG_2016          9680\n",
       "CTE_STUDENTS_2017    11127\n",
       "CTE_HOURS_2017       11127\n",
       "CTE_AVG_2017         11127\n",
       "ALL_STUDENTS_2017    11127\n",
       "ALL_HOURS_2017       11127\n",
       "ALL_AVG_2017         11127\n",
       "CTE_STUDENTS_2018    12531\n",
       "CTE_HOURS_2018       12531\n",
       "CTE_AVG_2018         12531\n",
       "ALL_STUDENTS_2018    12531\n",
       "ALL_HOURS_2018       12531\n",
       "ALL_AVG_2018         12531\n",
       "dtype: int64"
      ]
     },
     "execution_count": 16,
     "metadata": {},
     "output_type": "execute_result"
    }
   ],
   "source": [
    "#merge function to merge set of dataframes into single dataframe\n",
    "#outer merge used to get all data\n",
    "from functools import reduce\n",
    "def merge(df1, df2):\n",
    "    return df1.merge(df2, how=\"outer\", on=['DISTRICT', 'SERVICE','SERVICEX'])\n",
    "\n",
    "df = reduce(merge, dfs)\n",
    "df.count()"
   ]
  },
  {
   "cell_type": "code",
   "execution_count": 6,
   "metadata": {
    "scrolled": true
   },
   "outputs": [],
   "source": [
    "# combine into single dataframe and output this dataframe\n",
    "#move commas from dataset\n",
    "df_np_zer0=pd.DataFrame(df.fillna(value = 0, inplace=False))\n",
    "columns=['DISTRICT',  \n",
    "        'CTE_AVG_2015','CTE_STUDENTS_2015', \n",
    "    'CTE_HOURS_2015', 'ALL_STUDENTS_2015', 'ALL_HOURS_2015',\n",
    "       'ALL_AVG_2015', 'CTE_STUDENTS_2016', 'CTE_HOURS_2016', 'CTE_AVG_2016',\n",
    "       'ALL_STUDENTS_2016', 'ALL_HOURS_2016', 'ALL_AVG_2016',\n",
    "       'CTE_STUDENTS_2017', 'CTE_HOURS_2017', 'CTE_AVG_2017',\n",
    "       'ALL_STUDENTS_2017', 'ALL_HOURS_2017', 'ALL_AVG_2017',\n",
    "       'CTE_STUDENTS_2018', 'CTE_HOURS_2018', 'CTE_AVG_2018',\n",
    "       'ALL_STUDENTS_2018', 'ALL_HOURS_2018', 'ALL_AVG_2018']\n",
    "for c in columns:\n",
    "    df_np_zer0[c]=df_np_zer0[c].astype(str)\n",
    "    df_np_zer0[c]=df_np_zer0[c].str.replace(\",\", \"\")\n",
    "    df_np_zer0[c]=pd.to_numeric(df_np_zer0[c])"
   ]
  },
  {
   "cell_type": "code",
   "execution_count": 15,
   "metadata": {},
   "outputs": [
    {
     "data": {
      "text/plain": [
       "DISTRICT             19974\n",
       "SERVICE              19974\n",
       "SERVICEX             19974\n",
       "CTE_STUDENTS_2015    19974\n",
       "CTE_HOURS_2015       19974\n",
       "CTE_AVG_2015         19974\n",
       "ALL_STUDENTS_2015    19974\n",
       "ALL_HOURS_2015       19974\n",
       "ALL_AVG_2015         19974\n",
       "CTE_STUDENTS_2016    19974\n",
       "CTE_HOURS_2016       19974\n",
       "CTE_AVG_2016         19974\n",
       "ALL_STUDENTS_2016    19974\n",
       "ALL_HOURS_2016       19974\n",
       "ALL_AVG_2016         19974\n",
       "CTE_STUDENTS_2017    19974\n",
       "CTE_HOURS_2017       19974\n",
       "CTE_AVG_2017         19974\n",
       "ALL_STUDENTS_2017    19974\n",
       "ALL_HOURS_2017       19974\n",
       "ALL_AVG_2017         19974\n",
       "CTE_STUDENTS_2018    19974\n",
       "CTE_HOURS_2018       19974\n",
       "CTE_AVG_2018         19974\n",
       "ALL_STUDENTS_2018    19974\n",
       "ALL_HOURS_2018       19974\n",
       "ALL_AVG_2018         19974\n",
       "dtype: int64"
      ]
     },
     "execution_count": 15,
     "metadata": {},
     "output_type": "execute_result"
    }
   ],
   "source": [
    "# comparing year over year and analysis data on different splices\n",
    "\n",
    "df=df_np_zer0\n",
    "df.count()\n",
    "# find outlier to established trends\n"
   ]
  },
  {
   "cell_type": "code",
   "execution_count": 12,
   "metadata": {},
   "outputs": [],
   "source": [
    "district=pd.read_csv(\"Book1.csv\")\n",
    "\n",
    "district=district[[\"District\",\"District Number\",\"TEA District Type\",\"TEA Description\"]]\n",
    "renamed=district.rename(columns={'District Number': 'DISTRICT'})\n",
    "df=df.merge(renamed, on='DISTRICT', how='left')\n",
    "\n"
   ]
  },
  {
   "cell_type": "code",
   "execution_count": 13,
   "metadata": {},
   "outputs": [],
   "source": [
    "df=df.replace(to_replace = -999, value = np.nan)\n",
    "df['SERVICE'].replace(regex=True,inplace=True,to_replace=r'\\D',value=r'')\n",
    "    \n",
    "\n"
   ]
  },
  {
   "cell_type": "code",
   "execution_count": 14,
   "metadata": {},
   "outputs": [],
   "source": [
    "# output charts \n",
    "df_np_=pd.DataFrame(df.dropna(how='any', inplace = False))\n"
   ]
  },
  {
   "cell_type": "code",
   "execution_count": 17,
   "metadata": {},
   "outputs": [
    {
     "data": {
      "text/plain": [
       "DISTRICT               19842\n",
       "SERVICE                19842\n",
       "SERVICEX               19842\n",
       "CTE_STUDENTS_2015      19842\n",
       "CTE_HOURS_2015         19842\n",
       "CTE_AVG_2015           19842\n",
       "ALL_STUDENTS_2015      19842\n",
       "ALL_HOURS_2015         19842\n",
       "ALL_AVG_2015           19842\n",
       "CTE_STUDENTS_2016      19842\n",
       "CTE_HOURS_2016         19842\n",
       "CTE_AVG_2016           19842\n",
       "ALL_STUDENTS_2016      19842\n",
       "ALL_HOURS_2016         19842\n",
       "ALL_AVG_2016           19842\n",
       "CTE_STUDENTS_2017      19842\n",
       "CTE_HOURS_2017         19842\n",
       "CTE_AVG_2017           19842\n",
       "ALL_STUDENTS_2017      19842\n",
       "ALL_HOURS_2017         19842\n",
       "ALL_AVG_2017           19842\n",
       "CTE_STUDENTS_2018      19842\n",
       "CTE_HOURS_2018         19842\n",
       "CTE_AVG_2018           19842\n",
       "ALL_STUDENTS_2018      19842\n",
       "ALL_HOURS_2018         19842\n",
       "ALL_AVG_2018           19842\n",
       "District_x             19842\n",
       "TEA District Type_x    19842\n",
       "TEA Description_x      19842\n",
       "District_y             19842\n",
       "TEA District Type_y    19842\n",
       "TEA Description_y      19842\n",
       "dtype: int64"
      ]
     },
     "execution_count": 17,
     "metadata": {},
     "output_type": "execute_result"
    }
   ],
   "source": [
    "\n",
    "df=df_np_\n",
    "df.to_csv(\"Clean_and_Combine.csv\", index=False)\n",
    "df.count("
   ]
  },
  {
   "cell_type": "code",
   "execution_count": null,
   "metadata": {},
   "outputs": [],
   "source": []
  }
 ],
 "metadata": {
  "kernelspec": {
   "display_name": "Conda [PythonData]",
   "language": "python",
   "name": "pythondata"
  },
  "language_info": {
   "codemirror_mode": {
    "name": "ipython",
    "version": 3
   },
   "file_extension": ".py",
   "mimetype": "text/x-python",
   "name": "python",
   "nbconvert_exporter": "python",
   "pygments_lexer": "ipython3",
   "version": "3.7.3"
  }
 },
 "nbformat": 4,
 "nbformat_minor": 2
}
