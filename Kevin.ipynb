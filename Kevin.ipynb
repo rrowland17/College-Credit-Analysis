{
 "cells": [
  {
   "cell_type": "code",
   "execution_count": 2,
   "metadata": {},
   "outputs": [],
   "source": [
    "import os\n",
    "import pandas as pd\n",
    "import matplotlib .pyplot as plt\n",
    "import numpy as np\n"
   ]
  },
  {
   "cell_type": "code",
   "execution_count": 5,
   "metadata": {},
   "outputs": [],
   "source": [
    "\n",
    "df = pd.read_csv(\"Clean_and_Combine.csv\")\n"
   ]
  },
  {
   "cell_type": "code",
   "execution_count": 6,
   "metadata": {},
   "outputs": [
    {
     "data": {
      "text/plain": [
       "[176055.0,\n",
       " 228347.3,\n",
       " 219693.80000000002,\n",
       " 281823.1,\n",
       " 254833.5,\n",
       " 325977.80000000005,\n",
       " 291116.2,\n",
       " 372088.3]"
      ]
     },
     "execution_count": 6,
     "metadata": {},
     "output_type": "execute_result"
    }
   ],
   "source": [
    "# CTE student count vs All Student count\n",
    "columns=[ 'CTE_STUDENTS_2015',\n",
    "       'ALL_STUDENTS_2015',\n",
    "        'CTE_STUDENTS_2016',  \n",
    "       'ALL_STUDENTS_2016', \n",
    "       'CTE_STUDENTS_2017', \n",
    "       'ALL_STUDENTS_2017', \n",
    "       'CTE_STUDENTS_2018', \n",
    "       'ALL_STUDENTS_2018', ]\n",
    "student_count=[]\n",
    "for c in columns:\n",
    "    student_count.append(df[c].sum())\n",
    "    \n",
    "student_count\n"
   ]
  },
  {
   "cell_type": "code",
   "execution_count": null,
   "metadata": {},
   "outputs": [],
   "source": [
    "# create a dataframe containing each type of course:\n",
    "\n",
    "df=df.sort_values(\"SERVICE\", ascending= False)\n",
    "df.head()\n"
   ]
  },
  {
   "cell_type": "code",
   "execution_count": null,
   "metadata": {},
   "outputs": [],
   "source": []
  }
 ],
 "metadata": {
  "kernelspec": {
   "display_name": "Conda [PythonData]",
   "language": "python",
   "name": "pythondata"
  },
  "language_info": {
   "codemirror_mode": {
    "name": "ipython",
    "version": 3
   },
   "file_extension": ".py",
   "mimetype": "text/x-python",
   "name": "python",
   "nbconvert_exporter": "python",
   "pygments_lexer": "ipython3",
   "version": "3.7.3"
  }
 },
 "nbformat": 4,
 "nbformat_minor": 2
}
